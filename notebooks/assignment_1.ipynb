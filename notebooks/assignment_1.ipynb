{
 "cells": [
  {
   "cell_type": "code",
   "execution_count": 51,
   "metadata": {},
   "outputs": [],
   "source": [
    "import numpy as np\n",
    "import matplotlib.pyplot as plt\n",
    "from scipy.io import wavfile\n",
    "from scipy.signal import find_peaks\n",
    "import json\n",
    "import math"
   ]
  },
  {
   "cell_type": "markdown",
   "metadata": {},
   "source": [
    "---\n",
    "# MUSIC for DOA estimation\n",
    "##  Assignment 1 - Basic Implementation"
   ]
  },
  {
   "cell_type": "markdown",
   "metadata": {},
   "source": [
    "### Introduction"
   ]
  },
  {
   "cell_type": "markdown",
   "metadata": {},
   "source": [
    "#### Definitions\n",
    "\n",
    "__MUSIC__ stands for Multiple Signal Classification and is an algorithm proposed by Schmidt and his colleagues in 1979\n",
    "\n",
    "__DOA__ stands for Direction of Arrival"
   ]
  },
  {
   "cell_type": "markdown",
   "metadata": {},
   "source": [
    "#### Goal\n",
    "\n",
    "MUSIC can be used without modification for the estimation of DOA, assuming that there is a known number of sources and that the sources are uncorrelated. The goal of this mini-project is to compare a basic implementation of the MUSIC algorithm for DOA and an improved version, both for real/simulated and correlated/uncorrelated data."
   ]
  },
  {
   "cell_type": "markdown",
   "metadata": {},
   "source": [
    "#### Basic idea \n",
    "\n",
    "The basic idea of MUSIC algorithm is to conduct characteristic decomposition for the covariance matrix of any array output data, resulting in a __signal subspace__ orthogonal with a __noise subspace__ corresponding to the signal components. Then these two orthogonal subspaces are used to constitute a __spectrum function__, be got though by spectral peak search and detect DOA signals."
   ]
  },
  {
   "cell_type": "markdown",
   "metadata": {},
   "source": [
    "<img src=\"images/schema.png\" alt=\"Schema\" style=\"width: 400px;\"/>"
   ]
  },
  {
   "cell_type": "markdown",
   "metadata": {},
   "source": [
    "### Setup"
   ]
  },
  {
   "cell_type": "markdown",
   "metadata": {},
   "source": [
    "#### Parameters"
   ]
  },
  {
   "cell_type": "code",
   "execution_count": 52,
   "metadata": {},
   "outputs": [],
   "source": [
    "angles = [20, 60, -30, -35] \n",
    "thetas = np.array(angles) / 180 * np.pi     # Incoming signal directions \n",
    "w = np.array([1/2, 1/3, 1/5, 1/10]) * np.pi              # Emitted frequencies corresponding to incoming signals\n",
    "N = 200                                                  # snapshots (number of samples)\n",
    "M = 10                                                   # number of receivers/mics\n",
    "D = np.size(thetas)                                      # number of sources\n",
    "wavelen = 150                                            # wavelength (in ms)\n",
    "d = wavelen / 2                                          # distance between mics\n",
    "var = 0.20                                               # variance of noise"
   ]
  },
  {
   "cell_type": "markdown",
   "metadata": {},
   "source": [
    "#### Generate data"
   ]
  },
  {
   "cell_type": "markdown",
   "metadata": {},
   "source": [
    "Far-field assumption TODO"
   ]
  },
  {
   "cell_type": "markdown",
   "metadata": {},
   "source": [
    "First we generate the assignment matrix"
   ]
  },
  {
   "cell_type": "markdown",
   "metadata": {},
   "source": [
    "<img src=\"images/matrix_A.png\" alt=\"Matrix A\" style=\"width: 400px;\"/>"
   ]
  },
  {
   "cell_type": "code",
   "execution_count": 53,
   "metadata": {},
   "outputs": [
    {
     "name": "stdout",
     "output_type": "stream",
     "text": [
      "A is a (10, 4) matrix\n"
     ]
    }
   ],
   "source": [
    "A = np.exp(-1j * 2 * np.pi * d/wavelen * np.kron(np.arange(M), np.sin(thetas)).reshape((M, D)))\n",
    "print(\"A is a {} matrix\".format(A.shape))"
   ]
  },
  {
   "cell_type": "markdown",
   "metadata": {},
   "source": [
    "It corresponds to the 4 generated signals received by each of the 10 microphones."
   ]
  },
  {
   "cell_type": "markdown",
   "metadata": {},
   "source": [
    "We now have to generate the matrix S, where"
   ]
  },
  {
   "cell_type": "markdown",
   "metadata": {},
   "source": [
    "<img src=\"images/matrix_S(1).png\" alt=\"Matrix S(1)\" style=\"width: 200px;\"/>"
   ]
  },
  {
   "cell_type": "markdown",
   "metadata": {},
   "source": [
    "<img src=\"images/matrix_S(2).png\" alt=\"Matrix S\" style=\"width: 700px;\"/>"
   ]
  },
  {
   "cell_type": "code",
   "execution_count": 54,
   "metadata": {},
   "outputs": [
    {
     "name": "stdout",
     "output_type": "stream",
     "text": [
      "S is a (4, 200) matrix\n"
     ]
    }
   ],
   "source": [
    "S = 2 * np.exp(1j * (np.kron(w, np.arange(N)).reshape((D, N))))\n",
    "print(\"S is a {} matrix\".format(S.shape))"
   ]
  },
  {
   "cell_type": "markdown",
   "metadata": {},
   "source": [
    "The __noise__ is generated as follows"
   ]
  },
  {
   "cell_type": "code",
   "execution_count": 55,
   "metadata": {},
   "outputs": [
    {
     "name": "stdout",
     "output_type": "stream",
     "text": [
      "Noise is a (10, 200) matrix\n"
     ]
    }
   ],
   "source": [
    "Noise = var * np.random.randn(M, N)\n",
    "print(\"Noise is a {} matrix\".format(Noise.shape))"
   ]
  },
  {
   "cell_type": "markdown",
   "metadata": {},
   "source": [
    "The __output signal matrix__ can therefore be computed as follows"
   ]
  },
  {
   "cell_type": "markdown",
   "metadata": {},
   "source": [
    "<img src=\"images/matrix_X(0).png\" alt=\"Matrix X(0)\" style=\"width: 100px;\"/>"
   ]
  },
  {
   "cell_type": "markdown",
   "metadata": {},
   "source": [
    "where"
   ]
  },
  {
   "cell_type": "markdown",
   "metadata": {},
   "source": [
    "<img src=\"images/matrix_X(1).png\" alt=\"Matrix X(1)\" style=\"width: 200px;\"/>"
   ]
  },
  {
   "cell_type": "markdown",
   "metadata": {},
   "source": [
    "and"
   ]
  },
  {
   "cell_type": "markdown",
   "metadata": {},
   "source": [
    "<img src=\"images/matrix_X(2).png\" alt=\"Matrix X(2)\" style=\"width: 300px;\"/>"
   ]
  },
  {
   "cell_type": "code",
   "execution_count": 56,
   "metadata": {},
   "outputs": [
    {
     "name": "stdout",
     "output_type": "stream",
     "text": [
      "X is a (10, 200) matrix\n"
     ]
    }
   ],
   "source": [
    "X = np.dot(A, S) + Noise\n",
    "print(\"X is a {} matrix\".format(X.shape))"
   ]
  },
  {
   "cell_type": "markdown",
   "metadata": {},
   "source": [
    "### Basic Music for DOA Implementation for generated data"
   ]
  },
  {
   "cell_type": "markdown",
   "metadata": {},
   "source": [
    "Let us now implement the basic MUSIC algorithm for DOA as described in *DOA Estimation Based on MUSIC Algorithm.pdf* by Honghao Tang."
   ]
  },
  {
   "cell_type": "code",
   "execution_count": 57,
   "metadata": {},
   "outputs": [],
   "source": [
    "def basic_musicdoa(X, M, D, d, wavelen, resscale):\n",
    "    \n",
    "    # Make sure we have more receivers than input signals\n",
    "    assert(M > D)\n",
    "    \n",
    "    # Peak search range (start degree, end degree, step)\n",
    "    peak_search_range = np.arange(-90, 90, 0.5)\n",
    "    \n",
    "    # Center the output signal\n",
    "    X_normalized = (X.T - X.T.mean(axis=0)).T\n",
    "    \n",
    "    # Data covariance matrix: R = XX'\n",
    "    R = np.dot(X_normalized, X_normalized.conj().T)\n",
    "    \n",
    "    # Eigen values decomposition of R\n",
    "    eig_val, eig_vect = np.linalg.eig(R)\n",
    "    \n",
    "    # Find the smallest eigenvalues\n",
    "    ids = np.abs(eig_val).argsort()[:(M-D)]  \n",
    "    En = eig_vect[:,ids]\n",
    "    \n",
    "    # Noise subspace estimation: Ren = EnEn'\n",
    "    Ren = np.dot(En, En.conj().T)\n",
    "\n",
    "    # L = future size of Pmusic\n",
    "    L = np.size(peak_search_range)\n",
    "    \n",
    "    # \n",
    "    a = np.exp(-1j * 2 * np.pi * d/wavelen * np.kron(np.arange(M), np.sin(peak_search_range * np.pi /180)).reshape(M, L))\n",
    "    \n",
    "    # Pmusic = a(peak_search_range)' * En * En' * a(peak_search_range)\n",
    "    Pmusic = np.zeros(L)\n",
    "    for i in range(L):\n",
    "        Pmusic[i] = 1/abs(np.dot(a[:, i].conj().T, np.dot(Ren, a[:, i])))\n",
    "\n",
    "    # Spatial spectrum function\n",
    "    if resscale == \"log\":\n",
    "        Pmusic = 10 * np.log10(Pmusic / np.max(Pmusic))    \n",
    "    \n",
    "    return Pmusic, peak_search_range"
   ]
  },
  {
   "cell_type": "markdown",
   "metadata": {},
   "source": [
    "### Plot the results"
   ]
  },
  {
   "cell_type": "code",
   "execution_count": 58,
   "metadata": {},
   "outputs": [
    {
     "name": "stdout",
     "output_type": "stream",
     "text": [
      "360\n"
     ]
    }
   ],
   "source": [
    "Pmusic, peak_search_range = basic_musicdoa(X, M, D, d, wavelen, \"log\")\n",
    "print(len(peak_search_range))"
   ]
  },
  {
   "cell_type": "code",
   "execution_count": 59,
   "metadata": {},
   "outputs": [
    {
     "data": {
      "image/png": "[encoded data removed]",
      "text/plain": [
       "<Figure size 432x288 with 1 Axes>"
      ]
     },
     "metadata": {
      "needs_background": "light"
     },
     "output_type": "display_data"
    }
   ],
   "source": [
    "plt.plot(peak_search_range, Pmusic, '-k')\n",
    "plt.xlabel('angle (in degree)')\n",
    "plt.ylabel('spectrum function P (in dB)')\n",
    "plt.title('MUSIC for DOA')\n",
    "for angle in angles:\n",
    "        plt.plot((angle, angle), (Pmusic.min(), Pmusic.max()), 'r')\n",
    "plt.show()"
   ]
  },
  {
   "cell_type": "code",
   "execution_count": 60,
   "metadata": {},
   "outputs": [
    {
     "data": {
      "image/png": "[encoded data removed]",
      "text/plain": [
       "<Figure size 432x288 with 1 Axes>"
      ]
     },
     "metadata": {
      "needs_background": "light"
     },
     "output_type": "display_data"
    }
   ],
   "source": [
    "fig = plt.figure()\n",
    "ax = fig.add_subplot(111, polar=True)\n",
    "\n",
    "# only show -50dB, -30dB, 0dB ticks\n",
    "ax.set_yticks([-50, -30, 0])\n",
    "ax.set_rlabel_position(0)\n",
    "\n",
    "plt.plot(peak_search_range, Pmusic)\n",
    "plt.title('MUSIC for DOA - Spectrum function P (in dB)')\n",
    "plt.show()"
   ]
  },
  {
   "cell_type": "code",
   "execution_count": 61,
   "metadata": {},
   "outputs": [
    {
     "data": {
      "text/plain": [
       "array([-35., -30.,  20.,  60.])"
      ]
     },
     "execution_count": 61,
     "metadata": {},
     "output_type": "execute_result"
    }
   ],
   "source": [
    "peaks, _ = find_peaks(Pmusic, prominence=10, width=1)\n",
    "peaks/2 - 90"
   ]
  },
  {
   "cell_type": "code",
   "execution_count": null,
   "metadata": {},
   "outputs": [],
   "source": []
  }
 ],
 "metadata": {
  "kernelspec": {
   "display_name": "Python 3",
   "language": "python",
   "name": "python3"
  },
  "language_info": {
   "codemirror_mode": {
    "name": "ipython",
    "version": 3
   },
   "file_extension": ".py",
   "mimetype": "text/x-python",
   "name": "python",
   "nbconvert_exporter": "python",
   "pygments_lexer": "ipython3",
   "version": "3.8.2"
  }
 },
 "nbformat": 4,
 "nbformat_minor": 1
}