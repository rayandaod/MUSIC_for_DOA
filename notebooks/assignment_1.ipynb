{
 "cells": [
  {
   "cell_type": "code",
   "execution_count": 77,
   "metadata": {},
   "outputs": [],
   "source": [
    "import numpy as np\n",
    "import matplotlib.pyplot as plt\n",
    "from scipy.io import wavfile\n",
    "from scipy.signal import find_peaks\n",
    "import json\n",
    "import math"
   ]
  },
  {
   "cell_type": "markdown",
   "metadata": {},
   "source": [
    "---\n",
    "## Assignment 1: MUSIC for DOA basic implementation\n",
    "\n",
    "### 1.1 Generate Data"
   ]
  },
  {
   "cell_type": "code",
   "execution_count": 78,
   "metadata": {},
   "outputs": [],
   "source": [
    "angles = [20, 60, -30, -35]\n",
    "freq = [1/2, 1/3, 1/10, 1/5]\n",
    "\n",
    "thetas = np.array(angles) / 180 * np.pi    # harmonic signal direction \n",
    "w = np.array(freq) * np.pi                # harmonic signal frequency\n",
    "N = 200                                   # snapshots\n",
    "M = 10                                    # number of microphones\n",
    "D = np.size(thetas)                        # number of sources\n",
    "wavelen = 150                             # wave length\n",
    "d = wavelen / 2                           # distance between mics\n",
    "var = 0.01                                # variance of noise\n",
    "\n",
    "A = np.exp(-1j*2*np.pi*d/wavelen* np.kron(np.arange(M), np.sin(thetas)).reshape((M, D)))\n",
    "S = 2*np.exp(1j*(np.kron(w, np.arange(N)).reshape((D, N))))\n",
    "Noise = var*np.random.randn(M, N)\n",
    "X = np.dot(A, S) + Noise "
   ]
  },
  {
   "cell_type": "markdown",
   "metadata": {},
   "source": [
    "### 1.2 Music for DOA Implementation for generated data"
   ]
  },
  {
   "cell_type": "code",
   "execution_count": 79,
   "metadata": {},
   "outputs": [
    {
     "data": {
      "image/png": "[encoded data removed]",
      "text/plain": [
       "<Figure size 432x288 with 1 Axes>"
      ]
     },
     "metadata": {
      "needs_background": "light"
     },
     "output_type": "display_data"
    }
   ],
   "source": [
    "# apply MUSIC\n",
    "def basic_musicdoa(X, M, D, d, wavelen, resscale):\n",
    "    # X is M*N array, where N is number of snapshots\n",
    "    \n",
    "    theta_range = np.arange(-90, 90, 0.5)\n",
    "    \n",
    "    X_normalized = (X.T - X.T.mean(axis=0)).T \n",
    "    R = np.dot(X_normalized, X_normalized.conj().T)         # R = XX'\n",
    "    eig_val, eig_vect = np.linalg.eig(R)         \n",
    "    ids = np.abs(eig_val).argsort()[:(M-D)] # find the smallest eignvalues\n",
    "    En = eig_vect[:,ids]\n",
    "    Ren = np.dot(En, En.conj().T)     # Ren = EnEn'\n",
    "\n",
    "    L = np.size(theta_range)\n",
    "    a = np.exp(-1j*2*np.pi*d/wavelen*np.kron(np.arange(M), np.sin(theta_range * np.pi /180)).reshape(M, L))\n",
    "    Pmusic = np.zeros(L)\n",
    "    for i in range(L):\n",
    "        Pmusic[i] = 1/abs(np.dot(a[:, i].conj().T, np.dot(Ren, a[:, i]))) # Pmusic = a(theta)'*En*En'*a(theta)\n",
    "\n",
    "    # spatial spectrum function\n",
    "    if resscale==\"log\":\n",
    "        Pmusic = 10*np.log10(Pmusic / np.max(Pmusic))    \n",
    "    \n",
    "    return Pmusic, theta_range\n",
    "\n",
    "Pmusic, theta_range = basic_musicdoa(X, M, D, d, wavelen, \"log\")\n",
    "\n",
    "# plot\n",
    "plt.plot(theta_range, Pmusic, '-k')\n",
    "plt.xlabel('angle /degree')\n",
    "plt.ylabel('spectrum function P /dB')\n",
    "plt.title('MUSIC for DOA')\n",
    "for angle in angles:\n",
    "        plt.plot((angle,angle),(Pmusic.min(), Pmusic.max()), 'r')\n",
    "plt.show()"
   ]
  },
  {
   "cell_type": "code",
   "execution_count": 95,
   "metadata": {},
   "outputs": [
    {
     "data": {
      "text/plain": [
       "array([-35., -30.,  20.,  60.])"
      ]
     },
     "execution_count": 95,
     "metadata": {},
     "output_type": "execute_result"
    }
   ],
   "source": [
    "peaks, _ = find_peaks(Pmusic, prominence=10, width=1)\n",
    "peaks/2-90"
   ]
  },
  {
   "cell_type": "code",
   "execution_count": null,
   "metadata": {},
   "outputs": [],
   "source": []
  }
 ],
 "metadata": {
  "kernelspec": {
   "display_name": "Python 3",
   "language": "python",
   "name": "python3"
  },
  "language_info": {
   "codemirror_mode": {
    "name": "ipython",
    "version": 3
   },
   "file_extension": ".py",
   "mimetype": "text/x-python",
   "name": "python",
   "nbconvert_exporter": "python",
   "pygments_lexer": "ipython3",
   "version": "3.9.2"
  }
 },
 "nbformat": 4,
 "nbformat_minor": 1
}
