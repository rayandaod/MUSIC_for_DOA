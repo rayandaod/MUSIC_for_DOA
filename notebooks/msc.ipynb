{
  "nbformat": 4,
  "nbformat_minor": 0,
  "metadata": {
    "colab": {
      "name": "Untitled1.ipynb",
      "provenance": []
    },
    "kernelspec": {
      "name": "python3",
      "display_name": "Python 3"
    },
    "language_info": {
      "name": "python"
    }
  },
  "cells": [
    {
      "cell_type": "markdown",
      "metadata": {
        "id": "eCt0JMY6A5nf"
      },
      "source": [
        ""
      ]
    },
    {
      "cell_type": "code",
      "metadata": {
        "id": "O-i8t1d0Anj5"
      },
      "source": [
        "import numpy as np\n",
        "import matplotlib.pyplot as plt"
      ],
      "execution_count": null,
      "outputs": []
    },
    {
      "cell_type": "code",
      "metadata": {
        "id": "pxjg-HvgVbeU"
      },
      "source": [
        "def music(CovMat,NA,NS,d,w,Angles,scale=\"log\",corr=None):\n",
        "    if corr!=None:\n",
        "        J = np.flip(np.eye(M), axis=1)\n",
        "        CovMat = CovMat + np.dot(J, np.dot(CovMat.conj(), J))\n",
        "    n, V = np.linalg.eig(CovMat)\n",
        "    G = V[:, NS:NA]\n",
        "    numAngles = Angles.size\n",
        "    pspectrum = np.zeros(numAngles)\n",
        "    e = np.zeros((M, len(theta))) * 1j\n",
        "    for i in range(M):\n",
        "        e[i, :] = np.exp(-2j * np.pi * d * np.sin(Angles) * i / w)\n",
        "    for i in range(numAngles):\n",
        "        pspectrum[i] = 1 / np.linalg.norm((G.conj().transpose() @ e[:,i]))\n",
        "    if scale==\"log\":\n",
        "        pspectrum = 10 * np.log10(pspectrum / pspectrum.max())\n",
        "    return pspectrum"
      ],
      "execution_count": null,
      "outputs": []
    },
    {
      "cell_type": "code",
      "metadata": {
        "id": "b4Vbk67oVe1U"
      },
      "source": [
        "def generate_data(M,N,w,d,wavelen,var=0.01):\n",
        "    D = np.zeros((M, w.size)) * 1j\n",
        "    xx = np.zeros((w.size, N)) * 1j\n",
        "    for i in range(M):\n",
        "        D[i, :] = np.exp(-2j * np.pi * d * np.sin(doa) * i / wavelen)\n",
        "    for i in range(N):\n",
        "        xx[:, i] = 2 * np.exp(1j * w * i)\n",
        "    x = np.dot(D, xx)\n",
        "    noise = np.random.normal(0, var, x.shape)\n",
        "    return x+noise\n"
      ],
      "execution_count": null,
      "outputs": []
    },
    {
      "cell_type": "code",
      "metadata": {
        "id": "ej1ikaozWLkY"
      },
      "source": [
        "def plot(psin,theta,sp=None,title=\"Music\"):\n",
        "    if sp!=None:\n",
        "        plt.subplot(sp)\n",
        "    plt.plot(theta, psin)\n",
        "    plt.title(title)\n",
        "    for i in doa:\n",
        "        plt.plot((i, i), (psin.min(), psin.max()), 'r')"
      ],
      "execution_count": null,
      "outputs": []
    },
    {
      "cell_type": "code",
      "metadata": {
        "id": "_4vBo7eKWK5n"
      },
      "source": [
        "doa = np.array([20, 60, 75, 80]) * np.pi / 180\n",
        "N = 200\n",
        "w = np.array([ 1 / 5, 1 / 5,  1 / 3, 1/3]) * np.pi\n",
        "M = 10\n",
        "P = w.size\n",
        "wavelen = 150\n",
        "d = wavelen / 2\n",
        "snr = 20\n",
        "var = 0.01"
      ],
      "execution_count": null,
      "outputs": []
    },
    {
      "cell_type": "code",
      "metadata": {
        "colab": {
          "base_uri": "https://localhost:8080/",
          "height": 163
        },
        "id": "-lL9HUGPXF7-",
        "outputId": "79863f37-958f-46ea-f174-e4512c2d08aa"
      },
      "source": [
        "y = generate_data(M,N,w,d,wavelen,var)\n",
        "theta = np.arange(-np.pi / 2, np.pi / 2, 0.01)\n",
        "CovMat=np.dot(y, np.transpose(np.conj(y)))\n",
        "psin1= music(CovMat, M, P, d,wavelen, theta)\n",
        "psin2= music(CovMat, M, P, d, wavelen, theta, corr=1)\n",
        "\n",
        "# plot\n",
        "plot(psin1,theta,221,\"Basic Music\")\n",
        "plot(psin2,theta,222,\"Improved Music\")\n",
        "plt.show()"
      ],
      "execution_count": null,
      "outputs": [
        {
          "output_type": "display_data",
          "data": {
            "image/png": "[encoded data removed]",
            "text/plain": [
              "<Figure size 432x288 with 2 Axes>"
            ]
          },
          "metadata": {
            "tags": [],
            "needs_background": "light"
          }
        }
      ]
    }
  ]
}